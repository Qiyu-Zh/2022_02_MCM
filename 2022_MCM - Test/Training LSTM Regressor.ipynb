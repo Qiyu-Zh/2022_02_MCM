{
 "cells": [
  {
   "cell_type": "code",
   "execution_count": 160,
   "metadata": {},
   "outputs": [],
   "source": [
    "import os\n",
    "import argparse\n",
    "import numpy as np\n",
    "import pandas as pd\n",
    "import matplotlib.pyplot as plt\n",
    "from tqdm import tqdm\n",
    "from utils import *\n",
    "from sklearn.preprocessing import MinMaxScaler\n",
    "\n",
    "import torch\n",
    "import torch.utils.data as Data"
   ]
  },
  {
   "cell_type": "code",
   "execution_count": 161,
   "metadata": {},
   "outputs": [],
   "source": [
    "parser = argparse.ArgumentParser()\n",
    "\n",
    "parser.add_argument('--path', type = str, default = 'stock_data')\n",
    "parser.add_argument('--label', type = str, default = 'Price')\n",
    "\n",
    "parser.add_argument('--test_size', type = float, default = 0.1)\n",
    "parser.add_argument('--seq_size', type = float, default = 20)\n",
    "\n",
    "parser.add_argument('--epochs', type = int, default = 5)\n",
    "parser.add_argument(\"--lr\", type=float, default = 0.001)\n",
    "\n",
    "parser.add_argument('--batch_size', type = int, default = 256)\n",
    "\n",
    "parser.add_argument('--layer_size', type = int, default = 2)\n",
    "parser.add_argument('--input_size', type = int, default = 8)\n",
    "parser.add_argument('--hidden_size', type = int, default = 64)\n",
    "parser.add_argument('--output_size', type = int, default = 1)\n",
    "\n",
    "args = parser.parse_args(args=[])"
   ]
  },
  {
   "cell_type": "code",
   "execution_count": 162,
   "metadata": {},
   "outputs": [],
   "source": [
    "df_list = [pd.read_csv(os.path.join(args.path, i)) for i in os.listdir(args.path)]"
   ]
  },
  {
   "cell_type": "code",
   "execution_count": 163,
   "metadata": {},
   "outputs": [],
   "source": [
    "scaler = MinMaxScaler(feature_range=(-1, 1))\n",
    "for i in range(len(df_list)):\n",
    "    for col in df_list[i].columns:\n",
    "        df_list[i][col] = scaler.fit_transform(df_list[i][col].values.reshape(-1,1))"
   ]
  },
  {
   "cell_type": "code",
   "execution_count": 164,
   "metadata": {},
   "outputs": [],
   "source": [
    "test_set_size = int(args.test_size * sum([len(df) for df in df_list]))\n",
    "\n",
    "# feat, target = create_seq_data(df_list, args)\n",
    "# np.save(f'input\\data_X_Regression_size_{args.input_size}.npy', feat)\n",
    "# np.save(f'input\\data_y_Regression_size_{args.input_size}.npy', target)\n",
    "\n",
    "feat = np.load(f'input\\data_X_Regression_size_{args.input_size}.npy')\n",
    "target = np.load(f'input\\data_y_Regression_size_{args.input_size}.npy')\n",
    "trainX, trainY, testX, testY = train_test(feat, target, test_set_size, args.seq_size, args.input_size)"
   ]
  },
  {
   "cell_type": "code",
   "execution_count": 165,
   "metadata": {},
   "outputs": [
    {
     "name": "stderr",
     "output_type": "stream",
     "text": [
      "D:\\Anaconda\\envs\\pytorch\\lib\\site-packages\\torch\\nn\\_reduction.py:42: UserWarning: size_average and reduce args will be deprecated, please use reduction='mean' instead.\n",
      "  warnings.warn(warning.format(ret))\n"
     ]
    },
    {
     "data": {
      "text/plain": [
       "resLSTM(\n",
       "  (lstm): LSTM(8, 64, num_layers=2, batch_first=True)\n",
       "  (fc): Linear(in_features=64, out_features=1, bias=True)\n",
       ")"
      ]
     },
     "execution_count": 165,
     "metadata": {},
     "output_type": "execute_result"
    }
   ],
   "source": [
    "device = torch.device('cuda:0' if torch.cuda.is_available() else 'cpu')\n",
    "\n",
    "train_dataset = PriceDataSet(trainX, trainY)\n",
    "train_loader = Data.DataLoader(\n",
    "    dataset=train_dataset,\n",
    "    batch_size=args.batch_size,\n",
    "    shuffle=True,\n",
    "    num_workers=0\n",
    ")\n",
    "\n",
    "test_dataset = PriceDataSet(testX, testY)\n",
    "test_loader = Data.DataLoader(\n",
    "    dataset=test_dataset,\n",
    "    batch_size=args.batch_size,\n",
    "    shuffle=False,\n",
    "    num_workers=0\n",
    ")\n",
    "\n",
    "model = resLSTM(args.input_size, args.hidden_size, args.layer_size, args.output_size).to(device)\n",
    "\n",
    "criterion = torch.nn.MSELoss(size_average=True)\n",
    "optimizer = torch.optim.Adam(model.parameters(), lr=args.lr)\n",
    "\n",
    "model"
   ]
  },
  {
   "cell_type": "code",
   "execution_count": 166,
   "metadata": {},
   "outputs": [
    {
     "name": "stdout",
     "output_type": "stream",
     "text": [
      "Epoch 0/5\n"
     ]
    },
    {
     "name": "stderr",
     "output_type": "stream",
     "text": [
      "  0%|          | 0/391 [00:00<?, ?it/s]D:\\Anaconda\\envs\\pytorch\\lib\\site-packages\\torch\\nn\\modules\\loss.py:528: UserWarning: Using a target size (torch.Size([256, 1])) that is different to the input size (torch.Size([256, 256])). This will likely lead to incorrect results due to broadcasting. Please ensure they have the same size.\n",
      "  return F.mse_loss(input, target, reduction=self.reduction)\n",
      " 96%|█████████▌| 376/391 [00:02<00:00, 182.31it/s]D:\\Anaconda\\envs\\pytorch\\lib\\site-packages\\torch\\nn\\modules\\loss.py:528: UserWarning: Using a target size (torch.Size([42, 1])) that is different to the input size (torch.Size([42, 42])). This will likely lead to incorrect results due to broadcasting. Please ensure they have the same size.\n",
      "  return F.mse_loss(input, target, reduction=self.reduction)\n",
      "100%|██████████| 391/391 [00:02<00:00, 173.41it/s]\n",
      "D:\\Anaconda\\envs\\pytorch\\lib\\site-packages\\torch\\nn\\modules\\loss.py:528: UserWarning: Using a target size (torch.Size([56, 1])) that is different to the input size (torch.Size([56, 56])). This will likely lead to incorrect results due to broadcasting. Please ensure they have the same size.\n",
      "  return F.mse_loss(input, target, reduction=self.reduction)\n"
     ]
    },
    {
     "name": "stdout",
     "output_type": "stream",
     "text": [
      "0 Train Loss: 8.0513\n",
      "0 Test Loss: 331.9084\n",
      "Epoch 1/5\n"
     ]
    },
    {
     "name": "stderr",
     "output_type": "stream",
     "text": [
      "100%|██████████| 391/391 [00:02<00:00, 185.63it/s]\n"
     ]
    },
    {
     "name": "stdout",
     "output_type": "stream",
     "text": [
      "1 Train Loss: 5.6096\n",
      "1 Test Loss: 315.9703\n",
      "Epoch 2/5\n"
     ]
    },
    {
     "name": "stderr",
     "output_type": "stream",
     "text": [
      "100%|██████████| 391/391 [00:02<00:00, 177.67it/s]\n"
     ]
    },
    {
     "name": "stdout",
     "output_type": "stream",
     "text": [
      "2 Train Loss: 7.5915\n",
      "2 Test Loss: 313.7672\n",
      "Epoch 3/5\n"
     ]
    },
    {
     "name": "stderr",
     "output_type": "stream",
     "text": [
      "100%|██████████| 391/391 [00:02<00:00, 186.07it/s]\n"
     ]
    },
    {
     "name": "stdout",
     "output_type": "stream",
     "text": [
      "3 Train Loss: 6.3368\n",
      "3 Test Loss: 310.5566\n",
      "Epoch 4/5\n"
     ]
    },
    {
     "name": "stderr",
     "output_type": "stream",
     "text": [
      "100%|██████████| 391/391 [00:02<00:00, 184.84it/s]\n"
     ]
    },
    {
     "name": "stdout",
     "output_type": "stream",
     "text": [
      "4 Train Loss: 7.4824\n",
      "4 Test Loss: 312.7246\n"
     ]
    },
    {
     "data": {
      "image/png": "[encoded data removed]",
      "text/plain": [
       "<Figure size 1008x360 with 1 Axes>"
      ]
     },
     "metadata": {
      "needs_background": "light"
     },
     "output_type": "display_data"
    },
    {
     "name": "stdout",
     "output_type": "stream",
     "text": [
      "done\n"
     ]
    }
   ],
   "source": [
    "train_loss_all = []\n",
    "train_acc_all = []\n",
    "test_loss_all = []\n",
    "test_acc_all = []\n",
    "\n",
    "for epoch in range(args.epochs):\n",
    "    print('Epoch {}/{}'.format(epoch, args.epochs))\n",
    "\n",
    "    model.train()\n",
    "    train_num = 0\n",
    "    for (b_x, b_y) in tqdm(train_loader):\n",
    "        b_x = b_x.to(device)\n",
    "        b_y = b_y.to(device)\n",
    "        output = model(b_x)\n",
    "\n",
    "        loss = criterion(output, b_y)\n",
    "        optimizer.zero_grad()\n",
    "        loss.backward()\n",
    "        optimizer.step()\n",
    "        loss += 100000 * loss.item() * b_x.size(0)\n",
    "        train_num += b_x.size(0)\n",
    "    train_loss_all.append(float(loss) / train_num)\n",
    "    print('{} Train Loss: {:.4f}'.format(epoch, train_loss_all[-1]))\n",
    "\n",
    "\n",
    "    model.eval()\n",
    "    test_num = 0\n",
    "    for (b_x, b_y) in test_loader:\n",
    "        b_x = b_x.to(device)\n",
    "        b_y = b_y.to(device)\n",
    "        output = model(b_x)\n",
    "\n",
    "        loss = criterion(output, b_y)\n",
    "        loss += 100000 * loss.item() * b_x.size(0)\n",
    "        test_num += b_x.size(0)\n",
    "    test_loss_all.append(float(loss) / test_num)\n",
    "    print('{} Test Loss: {:.4f}'.format(epoch, test_loss_all[-1]))\n",
    "\n",
    "plt.figure(figsize=(14, 5))\n",
    "plt.plot(train_loss_all, 'ro-', label = 'Train loss')\n",
    "plt.plot(test_loss_all, 'bs-', label = 'Val loss')\n",
    "plt.legend()\n",
    "plt.xlabel('epoch')\n",
    "plt.ylabel('Loss')\n",
    "plt.show()\n",
    "print('done')"
   ]
  },
  {
   "cell_type": "code",
   "execution_count": 167,
   "metadata": {},
   "outputs": [],
   "source": [
    "# torch.save(model, 'models/LSTM.pkl')\n",
    "torch.save(model, 'models/res_LSTM.pkl')"
   ]
  }
 ],
 "metadata": {
  "kernelspec": {
   "display_name": "Python 3",
   "language": "python",
   "name": "python3"
  },
  "language_info": {
   "codemirror_mode": {
    "name": "ipython",
    "version": 3
   },
   "file_extension": ".py",
   "mimetype": "text/x-python",
   "name": "python",
   "nbconvert_exporter": "python",
   "pygments_lexer": "ipython3",
   "version": "3.8.5"
  }
 },
 "nbformat": 4,
 "nbformat_minor": 4
}
