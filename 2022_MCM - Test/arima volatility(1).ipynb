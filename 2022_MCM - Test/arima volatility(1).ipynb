{
 "cells": [
  {
   "cell_type": "code",
   "execution_count": 1,
   "metadata": {},
   "outputs": [
    {
     "name": "stderr",
     "output_type": "stream",
     "text": [
      "C:\\Users\\Maggie\\AppData\\Local\\Temp\\ipykernel_15736\\1161333456.py:4: FutureWarning: The pandas.datetime class is deprecated and will be removed from pandas in a future version. Import from datetime module instead.\n",
      "  from pandas import datetime\n"
     ]
    }
   ],
   "source": [
    "import pandas as pd\n",
    "import matplotlib.pyplot as plt  \n",
    "from datetime import datetime   #数据索引改为时间\n",
    "from pandas import datetime\n",
    "import numpy as np\n",
    "import statsmodels.api as sm     #acf,pacf图\n",
    "from statsmodels.tsa.stattools import adfuller  #adf检验\n",
    "from pandas.plotting import autocorrelation_plot\n",
    "from statsmodels.tsa.arima.model import ARIMA  \n"
   ]
  },
  {
   "cell_type": "code",
   "execution_count": 2,
   "metadata": {},
   "outputs": [
    {
     "data": {
      "text/html": [
       "<div>\n",
       "<style scoped>\n",
       "    .dataframe tbody tr th:only-of-type {\n",
       "        vertical-align: middle;\n",
       "    }\n",
       "\n",
       "    .dataframe tbody tr th {\n",
       "        vertical-align: top;\n",
       "    }\n",
       "\n",
       "    .dataframe thead th {\n",
       "        text-align: right;\n",
       "    }\n",
       "</style>\n",
       "<table border=\"1\" class=\"dataframe\">\n",
       "  <thead>\n",
       "    <tr style=\"text-align: right;\">\n",
       "      <th></th>\n",
       "      <th>Price</th>\n",
       "    </tr>\n",
       "    <tr>\n",
       "      <th>Date</th>\n",
       "      <th></th>\n",
       "    </tr>\n",
       "  </thead>\n",
       "  <tbody>\n",
       "    <tr>\n",
       "      <th>2014-09-17</th>\n",
       "      <td>468.174011</td>\n",
       "    </tr>\n",
       "    <tr>\n",
       "      <th>2014-09-18</th>\n",
       "      <td>456.859985</td>\n",
       "    </tr>\n",
       "    <tr>\n",
       "      <th>2014-09-19</th>\n",
       "      <td>427.834991</td>\n",
       "    </tr>\n",
       "    <tr>\n",
       "      <th>2014-09-20</th>\n",
       "      <td>423.295990</td>\n",
       "    </tr>\n",
       "    <tr>\n",
       "      <th>2014-09-21</th>\n",
       "      <td>412.425995</td>\n",
       "    </tr>\n",
       "    <tr>\n",
       "      <th>...</th>\n",
       "      <td>...</td>\n",
       "    </tr>\n",
       "    <tr>\n",
       "      <th>2016-09-05</th>\n",
       "      <td>609.054993</td>\n",
       "    </tr>\n",
       "    <tr>\n",
       "      <th>2016-09-06</th>\n",
       "      <td>610.830017</td>\n",
       "    </tr>\n",
       "    <tr>\n",
       "      <th>2016-09-07</th>\n",
       "      <td>614.544983</td>\n",
       "    </tr>\n",
       "    <tr>\n",
       "      <th>2016-09-08</th>\n",
       "      <td>628.770020</td>\n",
       "    </tr>\n",
       "    <tr>\n",
       "      <th>2016-09-09</th>\n",
       "      <td>626.830017</td>\n",
       "    </tr>\n",
       "  </tbody>\n",
       "</table>\n",
       "<p>724 rows × 1 columns</p>\n",
       "</div>"
      ],
      "text/plain": [
       "                 Price\n",
       "Date                  \n",
       "2014-09-17  468.174011\n",
       "2014-09-18  456.859985\n",
       "2014-09-19  427.834991\n",
       "2014-09-20  423.295990\n",
       "2014-09-21  412.425995\n",
       "...                ...\n",
       "2016-09-05  609.054993\n",
       "2016-09-06  610.830017\n",
       "2016-09-07  614.544983\n",
       "2016-09-08  628.770020\n",
       "2016-09-09  626.830017\n",
       "\n",
       "[724 rows x 1 columns]"
      ]
     },
     "execution_count": 2,
     "metadata": {},
     "output_type": "execute_result"
    }
   ],
   "source": [
    "data = pd.read_csv('C_DATA\\BTC-USD.csv', header=0, parse_dates=['Date'],index_col='Date')\n",
    "data = pd.DataFrame(data,dtype=np.float64)\n",
    "price = data['Price']\n",
    "data"
   ]
  },
  {
   "cell_type": "code",
   "execution_count": 3,
   "metadata": {
    "tags": []
   },
   "outputs": [
    {
     "data": {
      "text/html": [
       "<div>\n",
       "<style scoped>\n",
       "    .dataframe tbody tr th:only-of-type {\n",
       "        vertical-align: middle;\n",
       "    }\n",
       "\n",
       "    .dataframe tbody tr th {\n",
       "        vertical-align: top;\n",
       "    }\n",
       "\n",
       "    .dataframe thead th {\n",
       "        text-align: right;\n",
       "    }\n",
       "</style>\n",
       "<table border=\"1\" class=\"dataframe\">\n",
       "  <thead>\n",
       "    <tr style=\"text-align: right;\">\n",
       "      <th></th>\n",
       "      <th>r2</th>\n",
       "    </tr>\n",
       "    <tr>\n",
       "      <th>Date</th>\n",
       "      <th></th>\n",
       "    </tr>\n",
       "  </thead>\n",
       "  <tbody>\n",
       "    <tr>\n",
       "      <th>2014-09-17</th>\n",
       "      <td>0.000613</td>\n",
       "    </tr>\n",
       "    <tr>\n",
       "      <th>2014-09-18</th>\n",
       "      <td>0.000613</td>\n",
       "    </tr>\n",
       "    <tr>\n",
       "      <th>2014-09-19</th>\n",
       "      <td>0.004602</td>\n",
       "    </tr>\n",
       "    <tr>\n",
       "      <th>2014-09-20</th>\n",
       "      <td>0.000115</td>\n",
       "    </tr>\n",
       "    <tr>\n",
       "      <th>2014-09-21</th>\n",
       "      <td>0.000695</td>\n",
       "    </tr>\n",
       "    <tr>\n",
       "      <th>...</th>\n",
       "      <td>...</td>\n",
       "    </tr>\n",
       "    <tr>\n",
       "      <th>2016-09-05</th>\n",
       "      <td>0.000021</td>\n",
       "    </tr>\n",
       "    <tr>\n",
       "      <th>2016-09-06</th>\n",
       "      <td>0.000008</td>\n",
       "    </tr>\n",
       "    <tr>\n",
       "      <th>2016-09-07</th>\n",
       "      <td>0.000037</td>\n",
       "    </tr>\n",
       "    <tr>\n",
       "      <th>2016-09-08</th>\n",
       "      <td>0.000512</td>\n",
       "    </tr>\n",
       "    <tr>\n",
       "      <th>2016-09-09</th>\n",
       "      <td>0.000010</td>\n",
       "    </tr>\n",
       "  </tbody>\n",
       "</table>\n",
       "<p>724 rows × 1 columns</p>\n",
       "</div>"
      ],
      "text/plain": [
       "                  r2\n",
       "Date                \n",
       "2014-09-17  0.000613\n",
       "2014-09-18  0.000613\n",
       "2014-09-19  0.004602\n",
       "2014-09-20  0.000115\n",
       "2014-09-21  0.000695\n",
       "...              ...\n",
       "2016-09-05  0.000021\n",
       "2016-09-06  0.000008\n",
       "2016-09-07  0.000037\n",
       "2016-09-08  0.000512\n",
       "2016-09-09  0.000010\n",
       "\n",
       "[724 rows x 1 columns]"
      ]
     },
     "execution_count": 3,
     "metadata": {},
     "output_type": "execute_result"
    }
   ],
   "source": [
    "ret = price.diff(1)/price\n",
    "data.fillna(method='backfill',inplace=True)\n",
    "data = data.drop(columns='Price')\n",
    "data['r2'] = np.array(ret)**2\n",
    "data.fillna(method='backfill',inplace=True)\n",
    "data"
   ]
  },
  {
   "cell_type": "code",
   "execution_count": 4,
   "metadata": {},
   "outputs": [
    {
     "data": {
      "text/html": [
       "<div>\n",
       "<style scoped>\n",
       "    .dataframe tbody tr th:only-of-type {\n",
       "        vertical-align: middle;\n",
       "    }\n",
       "\n",
       "    .dataframe tbody tr th {\n",
       "        vertical-align: top;\n",
       "    }\n",
       "\n",
       "    .dataframe thead th {\n",
       "        text-align: right;\n",
       "    }\n",
       "</style>\n",
       "<table border=\"1\" class=\"dataframe\">\n",
       "  <thead>\n",
       "    <tr style=\"text-align: right;\">\n",
       "      <th></th>\n",
       "      <th>value</th>\n",
       "    </tr>\n",
       "  </thead>\n",
       "  <tbody>\n",
       "    <tr>\n",
       "      <th>Test Statistic Value</th>\n",
       "      <td>-5.301169</td>\n",
       "    </tr>\n",
       "    <tr>\n",
       "      <th>p-value</th>\n",
       "      <td>0.000005</td>\n",
       "    </tr>\n",
       "    <tr>\n",
       "      <th>Lags Used</th>\n",
       "      <td>15</td>\n",
       "    </tr>\n",
       "    <tr>\n",
       "      <th>Number of Observations Used</th>\n",
       "      <td>708</td>\n",
       "    </tr>\n",
       "    <tr>\n",
       "      <th>Critical Value(1%)</th>\n",
       "      <td>-3.43962</td>\n",
       "    </tr>\n",
       "    <tr>\n",
       "      <th>Critical Value(5%)</th>\n",
       "      <td>-2.865631</td>\n",
       "    </tr>\n",
       "    <tr>\n",
       "      <th>Critical Value(10%)</th>\n",
       "      <td>-2.568948</td>\n",
       "    </tr>\n",
       "  </tbody>\n",
       "</table>\n",
       "</div>"
      ],
      "text/plain": [
       "                                value\n",
       "Test Statistic Value        -5.301169\n",
       "p-value                      0.000005\n",
       "Lags Used                          15\n",
       "Number of Observations Used       708\n",
       "Critical Value(1%)           -3.43962\n",
       "Critical Value(5%)          -2.865631\n",
       "Critical Value(10%)         -2.568948"
      ]
     },
     "execution_count": 4,
     "metadata": {},
     "output_type": "execute_result"
    }
   ],
   "source": [
    "r2 = data['r2'].values\n",
    "t = adfuller(r2)  # ADF检验\n",
    "output=pd.DataFrame(index=['Test Statistic Value', \"p-value\", \"Lags Used\", \"Number of Observations Used\",\"Critical Value(1%)\",\"Critical Value(5%)\",\"Critical Value(10%)\"],columns=['value'])\n",
    "output['value']['Test Statistic Value'] = t[0]\n",
    "output['value']['p-value'] = t[1]\n",
    "output['value']['Lags Used'] = t[2]\n",
    "output['value']['Number of Observations Used'] = t[3]\n",
    "output['value']['Critical Value(1%)'] = t[4]['1%']\n",
    "output['value']['Critical Value(5%)'] = t[4]['5%']\n",
    "output['value']['Critical Value(10%)'] = t[4]['10%']\n",
    "output\n"
   ]
  },
  {
   "cell_type": "code",
   "execution_count": 5,
   "metadata": {
    "tags": []
   },
   "outputs": [
    {
     "name": "stdout",
     "output_type": "stream",
     "text": [
      "     lb_stat     lb_pvalue\n",
      "1  46.239347  1.046541e-11\n"
     ]
    }
   ],
   "source": [
    "# 白噪声检验（如果是白噪声，即纯随机序列，则没有研究的意义了。）\n",
    "from statsmodels.stats.diagnostic import acorr_ljungbox\n",
    "print(acorr_ljungbox(r2, lags=1)) "
   ]
  },
  {
   "cell_type": "code",
   "execution_count": 6,
   "metadata": {},
   "outputs": [],
   "source": [
    "# train = data[['Date','return']]\n",
    "# train.set_index('Date')\n",
    "train = r2\n"
   ]
  },
  {
   "cell_type": "code",
   "execution_count": 7,
   "metadata": {
    "tags": []
   },
   "outputs": [],
   "source": [
    "# (p,q)=sm.tsa.arma_order_select_ic(train,max_ar=6,max_ma=4,ic='aic')['aic_min_order']"
   ]
  },
  {
   "cell_type": "code",
   "execution_count": 8,
   "metadata": {
    "tags": []
   },
   "outputs": [
    {
     "data": {
      "text/html": [
       "<table class=\"simpletable\">\n",
       "<caption>SARIMAX Results</caption>\n",
       "<tr>\n",
       "  <th>Dep. Variable:</th>           <td>y</td>        <th>  No. Observations:  </th>    <td>724</td>   \n",
       "</tr>\n",
       "<tr>\n",
       "  <th>Model:</th>            <td>ARIMA(4, 0, 4)</td>  <th>  Log Likelihood     </th> <td>3213.994</td> \n",
       "</tr>\n",
       "<tr>\n",
       "  <th>Date:</th>            <td>Sun, 20 Feb 2022</td> <th>  AIC                </th> <td>-6407.988</td>\n",
       "</tr>\n",
       "<tr>\n",
       "  <th>Time:</th>                <td>16:19:55</td>     <th>  BIC                </th> <td>-6362.140</td>\n",
       "</tr>\n",
       "<tr>\n",
       "  <th>Sample:</th>                  <td>0</td>        <th>  HQIC               </th> <td>-6390.292</td>\n",
       "</tr>\n",
       "<tr>\n",
       "  <th></th>                      <td> - 724</td>      <th>                     </th>     <td> </td>    \n",
       "</tr>\n",
       "<tr>\n",
       "  <th>Covariance Type:</th>        <td>opg</td>       <th>                     </th>     <td> </td>    \n",
       "</tr>\n",
       "</table>\n",
       "<table class=\"simpletable\">\n",
       "<tr>\n",
       "     <td></td>       <th>coef</th>     <th>std err</th>      <th>z</th>      <th>P>|z|</th>  <th>[0.025</th>    <th>0.975]</th>  \n",
       "</tr>\n",
       "<tr>\n",
       "  <th>const</th>  <td>    0.0010</td> <td>    0.000</td> <td>    2.476</td> <td> 0.013</td> <td>    0.000</td> <td>    0.002</td>\n",
       "</tr>\n",
       "<tr>\n",
       "  <th>ar.L1</th>  <td>    0.6381</td> <td>    0.899</td> <td>    0.709</td> <td> 0.478</td> <td>   -1.125</td> <td>    2.401</td>\n",
       "</tr>\n",
       "<tr>\n",
       "  <th>ar.L2</th>  <td>    0.2427</td> <td>    1.110</td> <td>    0.219</td> <td> 0.827</td> <td>   -1.932</td> <td>    2.418</td>\n",
       "</tr>\n",
       "<tr>\n",
       "  <th>ar.L3</th>  <td>   -0.0117</td> <td>    1.093</td> <td>   -0.011</td> <td> 0.991</td> <td>   -2.154</td> <td>    2.131</td>\n",
       "</tr>\n",
       "<tr>\n",
       "  <th>ar.L4</th>  <td>   -0.0237</td> <td>    0.527</td> <td>   -0.045</td> <td> 0.964</td> <td>   -1.056</td> <td>    1.008</td>\n",
       "</tr>\n",
       "<tr>\n",
       "  <th>ma.L1</th>  <td>   -0.4254</td> <td>    0.898</td> <td>   -0.474</td> <td> 0.636</td> <td>   -2.185</td> <td>    1.334</td>\n",
       "</tr>\n",
       "<tr>\n",
       "  <th>ma.L2</th>  <td>   -0.2138</td> <td>    1.004</td> <td>   -0.213</td> <td> 0.831</td> <td>   -2.182</td> <td>    1.754</td>\n",
       "</tr>\n",
       "<tr>\n",
       "  <th>ma.L3</th>  <td>   -0.0249</td> <td>    0.954</td> <td>   -0.026</td> <td> 0.979</td> <td>   -1.896</td> <td>    1.846</td>\n",
       "</tr>\n",
       "<tr>\n",
       "  <th>ma.L4</th>  <td>   -0.0641</td> <td>    0.373</td> <td>   -0.172</td> <td> 0.863</td> <td>   -0.795</td> <td>    0.666</td>\n",
       "</tr>\n",
       "<tr>\n",
       "  <th>sigma2</th> <td> 8.157e-06</td> <td> 1.37e-07</td> <td>   59.542</td> <td> 0.000</td> <td> 7.89e-06</td> <td> 8.43e-06</td>\n",
       "</tr>\n",
       "</table>\n",
       "<table class=\"simpletable\">\n",
       "<tr>\n",
       "  <th>Ljung-Box (L1) (Q):</th>     <td>0.01</td> <th>  Jarque-Bera (JB):  </th> <td>144548.63</td>\n",
       "</tr>\n",
       "<tr>\n",
       "  <th>Prob(Q):</th>                <td>0.92</td> <th>  Prob(JB):          </th>   <td>0.00</td>   \n",
       "</tr>\n",
       "<tr>\n",
       "  <th>Heteroskedasticity (H):</th> <td>0.20</td> <th>  Skew:              </th>   <td>6.75</td>   \n",
       "</tr>\n",
       "<tr>\n",
       "  <th>Prob(H) (two-sided):</th>    <td>0.00</td> <th>  Kurtosis:          </th>   <td>70.89</td>  \n",
       "</tr>\n",
       "</table><br/><br/>Warnings:<br/>[1] Covariance matrix calculated using the outer product of gradients (complex-step).<br/>[2] Covariance matrix is singular or near-singular, with condition number 6.23e+14. Standard errors may be unstable."
      ],
      "text/plain": [
       "<class 'statsmodels.iolib.summary.Summary'>\n",
       "\"\"\"\n",
       "                               SARIMAX Results                                \n",
       "==============================================================================\n",
       "Dep. Variable:                      y   No. Observations:                  724\n",
       "Model:                 ARIMA(4, 0, 4)   Log Likelihood                3213.994\n",
       "Date:                Sun, 20 Feb 2022   AIC                          -6407.988\n",
       "Time:                        16:19:55   BIC                          -6362.140\n",
       "Sample:                             0   HQIC                         -6390.292\n",
       "                                - 724                                         \n",
       "Covariance Type:                  opg                                         \n",
       "==============================================================================\n",
       "                 coef    std err          z      P>|z|      [0.025      0.975]\n",
       "------------------------------------------------------------------------------\n",
       "const          0.0010      0.000      2.476      0.013       0.000       0.002\n",
       "ar.L1          0.6381      0.899      0.709      0.478      -1.125       2.401\n",
       "ar.L2          0.2427      1.110      0.219      0.827      -1.932       2.418\n",
       "ar.L3         -0.0117      1.093     -0.011      0.991      -2.154       2.131\n",
       "ar.L4         -0.0237      0.527     -0.045      0.964      -1.056       1.008\n",
       "ma.L1         -0.4254      0.898     -0.474      0.636      -2.185       1.334\n",
       "ma.L2         -0.2138      1.004     -0.213      0.831      -2.182       1.754\n",
       "ma.L3         -0.0249      0.954     -0.026      0.979      -1.896       1.846\n",
       "ma.L4         -0.0641      0.373     -0.172      0.863      -0.795       0.666\n",
       "sigma2      8.157e-06   1.37e-07     59.542      0.000    7.89e-06    8.43e-06\n",
       "===================================================================================\n",
       "Ljung-Box (L1) (Q):                   0.01   Jarque-Bera (JB):            144548.63\n",
       "Prob(Q):                              0.92   Prob(JB):                         0.00\n",
       "Heteroskedasticity (H):               0.20   Skew:                             6.75\n",
       "Prob(H) (two-sided):                  0.00   Kurtosis:                        70.89\n",
       "===================================================================================\n",
       "\n",
       "Warnings:\n",
       "[1] Covariance matrix calculated using the outer product of gradients (complex-step).\n",
       "[2] Covariance matrix is singular or near-singular, with condition number 6.23e+14. Standard errors may be unstable.\n",
       "\"\"\""
      ]
     },
     "execution_count": 8,
     "metadata": {},
     "output_type": "execute_result"
    }
   ],
   "source": [
    "model = ARIMA(train, order=(4,0,4)).fit()\n",
    "model.summary()        #生成一份模型报告\n"
   ]
  },
  {
   "cell_type": "code",
   "execution_count": 9,
   "metadata": {
    "tags": []
   },
   "outputs": [
    {
     "data": {
      "image/png": "[encoded data removed]",
      "text/plain": [
       "<Figure size 576x432 with 1 Axes>"
      ]
     },
     "metadata": {
      "needs_background": "light"
     },
     "output_type": "display_data"
    }
   ],
   "source": [
    "predictions_ARIMA_diff = pd.Series(model.fittedvalues, copy=True)\n",
    "# print(predictions_ARIMA_diff.head())\n",
    "\n",
    "plt.figure(figsize=(8,6))\n",
    "plt.plot(r2,label=\"Date\",alpha=0.5)\n",
    "plt.plot(predictions_ARIMA_diff,label=\"forecast_diff\")\n",
    "plt.ylim(0,0.1)\n",
    "plt.xlabel('Date',fontsize=12,verticalalignment='top')\n",
    "plt.ylabel('Return',fontsize=14,horizontalalignment='center')\n",
    "plt.legend()\n",
    "plt.show()"
   ]
  },
  {
   "cell_type": "code",
   "execution_count": null,
   "metadata": {},
   "outputs": [],
   "source": []
  }
 ],
 "metadata": {
  "interpreter": {
   "hash": "d7b28286968f0a5fdf032fc2ec77e5339fcfd088a65d9ee644066db90556df6d"
  },
  "kernelspec": {
   "display_name": "Python 3.10.1 64-bit",
   "language": "python",
   "name": "python3"
  },
  "language_info": {
   "codemirror_mode": {
    "name": "ipython",
    "version": 3
   },
   "file_extension": ".py",
   "mimetype": "text/x-python",
   "name": "python",
   "nbconvert_exporter": "python",
   "pygments_lexer": "ipython3",
   "version": "3.10.1"
  },
  "orig_nbformat": 2
 },
 "nbformat": 4,
 "nbformat_minor": 2
}
